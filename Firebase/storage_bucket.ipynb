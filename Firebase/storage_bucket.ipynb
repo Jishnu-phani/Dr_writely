{
 "cells": [
  {
   "cell_type": "code",
   "execution_count": 1,
   "metadata": {},
   "outputs": [
    {
     "data": {
      "text/plain": [
       "<firebase_admin.App at 0x2870699aa20>"
      ]
     },
     "execution_count": 1,
     "metadata": {},
     "output_type": "execute_result"
    }
   ],
   "source": [
    "import firebase_admin\n",
    "from firebase_admin import credentials\n",
    "from firebase_admin import storage\n",
    "\n",
    "# Initialize the Firebase Admin SDK\n",
    "cred = credentials.Certificate('credentials.json')\n",
    "firebase_admin.initialize_app(cred, {\n",
    "    'storageBucket': 'dr-writely',\n",
    "})\n",
    "\n"
   ]
  },
  {
   "cell_type": "code",
   "execution_count": 2,
   "metadata": {},
   "outputs": [],
   "source": [
    "import datetime\n",
    "file_path = 'Rules&Reg_INFERENTIA.pdf'\n",
    "\n",
    "\n",
    "now = datetime.datetime.now()\n",
    "s = [now.year, now.month, now.day, now.hour, now.minute]\n",
    "strx = \"\"\n",
    "for i in s:\n",
    "    strx += str(i)\n",
    "\n",
    "# Set the destination folder and file name in Firebase Storage\n",
    "destination_folder = f'{strx}/'  # Specify the folder name\n",
    "destination_filename = 'sample.pdf'  # Specify the desired file name\n",
    "\n"
   ]
  },
  {
   "cell_type": "code",
   "execution_count": 3,
   "metadata": {},
   "outputs": [
    {
     "ename": "NotFound",
     "evalue": "404 POST https://storage.googleapis.com/upload/storage/v1/b/dr-writely/o?uploadType=multipart: {\n  \"error\": {\n    \"code\": 404,\n    \"message\": \"The specified bucket does not exist.\",\n    \"errors\": [\n      {\n        \"message\": \"The specified bucket does not exist.\",\n        \"domain\": \"global\",\n        \"reason\": \"notFound\"\n      }\n    ]\n  }\n}\n: ('Request failed with status code', 404, 'Expected one of', <HTTPStatus.OK: 200>)",
     "output_type": "error",
     "traceback": [
      "\u001b[1;31m---------------------------------------------------------------------------\u001b[0m",
      "\u001b[1;31mInvalidResponse\u001b[0m                           Traceback (most recent call last)",
      "File \u001b[1;32mc:\\Users\\gteja\\anaconda3\\Lib\\site-packages\\google\\cloud\\storage\\blob.py:2697\u001b[0m, in \u001b[0;36mBlob._prep_and_do_upload\u001b[1;34m(self, file_obj, rewind, size, content_type, num_retries, client, predefined_acl, if_generation_match, if_generation_not_match, if_metageneration_match, if_metageneration_not_match, timeout, checksum, retry, command)\u001b[0m\n\u001b[0;32m   2696\u001b[0m \u001b[38;5;28;01mtry\u001b[39;00m:\n\u001b[1;32m-> 2697\u001b[0m     created_json \u001b[38;5;241m=\u001b[39m \u001b[38;5;28mself\u001b[39m\u001b[38;5;241m.\u001b[39m_do_upload(\n\u001b[0;32m   2698\u001b[0m         client,\n\u001b[0;32m   2699\u001b[0m         file_obj,\n\u001b[0;32m   2700\u001b[0m         content_type,\n\u001b[0;32m   2701\u001b[0m         size,\n\u001b[0;32m   2702\u001b[0m         num_retries,\n\u001b[0;32m   2703\u001b[0m         predefined_acl,\n\u001b[0;32m   2704\u001b[0m         if_generation_match,\n\u001b[0;32m   2705\u001b[0m         if_generation_not_match,\n\u001b[0;32m   2706\u001b[0m         if_metageneration_match,\n\u001b[0;32m   2707\u001b[0m         if_metageneration_not_match,\n\u001b[0;32m   2708\u001b[0m         timeout\u001b[38;5;241m=\u001b[39mtimeout,\n\u001b[0;32m   2709\u001b[0m         checksum\u001b[38;5;241m=\u001b[39mchecksum,\n\u001b[0;32m   2710\u001b[0m         retry\u001b[38;5;241m=\u001b[39mretry,\n\u001b[0;32m   2711\u001b[0m         command\u001b[38;5;241m=\u001b[39mcommand,\n\u001b[0;32m   2712\u001b[0m     )\n\u001b[0;32m   2713\u001b[0m     \u001b[38;5;28mself\u001b[39m\u001b[38;5;241m.\u001b[39m_set_properties(created_json)\n",
      "File \u001b[1;32mc:\\Users\\gteja\\anaconda3\\Lib\\site-packages\\google\\cloud\\storage\\blob.py:2503\u001b[0m, in \u001b[0;36mBlob._do_upload\u001b[1;34m(self, client, stream, content_type, size, num_retries, predefined_acl, if_generation_match, if_generation_not_match, if_metageneration_match, if_metageneration_not_match, timeout, checksum, retry, command)\u001b[0m\n\u001b[0;32m   2502\u001b[0m \u001b[38;5;28;01mif\u001b[39;00m size \u001b[38;5;129;01mis\u001b[39;00m \u001b[38;5;129;01mnot\u001b[39;00m \u001b[38;5;28;01mNone\u001b[39;00m \u001b[38;5;129;01mand\u001b[39;00m size \u001b[38;5;241m<\u001b[39m\u001b[38;5;241m=\u001b[39m _MAX_MULTIPART_SIZE:\n\u001b[1;32m-> 2503\u001b[0m     response \u001b[38;5;241m=\u001b[39m \u001b[38;5;28mself\u001b[39m\u001b[38;5;241m.\u001b[39m_do_multipart_upload(\n\u001b[0;32m   2504\u001b[0m         client,\n\u001b[0;32m   2505\u001b[0m         stream,\n\u001b[0;32m   2506\u001b[0m         content_type,\n\u001b[0;32m   2507\u001b[0m         size,\n\u001b[0;32m   2508\u001b[0m         num_retries,\n\u001b[0;32m   2509\u001b[0m         predefined_acl,\n\u001b[0;32m   2510\u001b[0m         if_generation_match,\n\u001b[0;32m   2511\u001b[0m         if_generation_not_match,\n\u001b[0;32m   2512\u001b[0m         if_metageneration_match,\n\u001b[0;32m   2513\u001b[0m         if_metageneration_not_match,\n\u001b[0;32m   2514\u001b[0m         timeout\u001b[38;5;241m=\u001b[39mtimeout,\n\u001b[0;32m   2515\u001b[0m         checksum\u001b[38;5;241m=\u001b[39mchecksum,\n\u001b[0;32m   2516\u001b[0m         retry\u001b[38;5;241m=\u001b[39mretry,\n\u001b[0;32m   2517\u001b[0m         command\u001b[38;5;241m=\u001b[39mcommand,\n\u001b[0;32m   2518\u001b[0m     )\n\u001b[0;32m   2519\u001b[0m \u001b[38;5;28;01melse\u001b[39;00m:\n",
      "File \u001b[1;32mc:\\Users\\gteja\\anaconda3\\Lib\\site-packages\\google\\cloud\\storage\\blob.py:2003\u001b[0m, in \u001b[0;36mBlob._do_multipart_upload\u001b[1;34m(self, client, stream, content_type, size, num_retries, predefined_acl, if_generation_match, if_generation_not_match, if_metageneration_match, if_metageneration_not_match, timeout, checksum, retry, command)\u001b[0m\n\u001b[0;32m   1997\u001b[0m \u001b[38;5;28;01mwith\u001b[39;00m create_trace_span(\n\u001b[0;32m   1998\u001b[0m     name\u001b[38;5;241m=\u001b[39m\u001b[38;5;124m\"\u001b[39m\u001b[38;5;124mStorage.MultipartUpload/transmit\u001b[39m\u001b[38;5;124m\"\u001b[39m,\n\u001b[0;32m   1999\u001b[0m     attributes\u001b[38;5;241m=\u001b[39mextra_attributes,\n\u001b[0;32m   2000\u001b[0m     client\u001b[38;5;241m=\u001b[39mclient,\n\u001b[0;32m   2001\u001b[0m     api_request\u001b[38;5;241m=\u001b[39margs,\n\u001b[0;32m   2002\u001b[0m ):\n\u001b[1;32m-> 2003\u001b[0m     response \u001b[38;5;241m=\u001b[39m upload\u001b[38;5;241m.\u001b[39mtransmit(\n\u001b[0;32m   2004\u001b[0m         transport, data, object_metadata, content_type, timeout\u001b[38;5;241m=\u001b[39mtimeout\n\u001b[0;32m   2005\u001b[0m     )\n\u001b[0;32m   2007\u001b[0m     \u001b[38;5;28;01mreturn\u001b[39;00m response\n",
      "File \u001b[1;32mc:\\Users\\gteja\\anaconda3\\Lib\\site-packages\\google\\resumable_media\\requests\\upload.py:153\u001b[0m, in \u001b[0;36mMultipartUpload.transmit\u001b[1;34m(self, transport, data, metadata, content_type, timeout)\u001b[0m\n\u001b[0;32m    151\u001b[0m     \u001b[38;5;28;01mreturn\u001b[39;00m result\n\u001b[1;32m--> 153\u001b[0m \u001b[38;5;28;01mreturn\u001b[39;00m _request_helpers\u001b[38;5;241m.\u001b[39mwait_and_retry(\n\u001b[0;32m    154\u001b[0m     retriable_request, \u001b[38;5;28mself\u001b[39m\u001b[38;5;241m.\u001b[39m_get_status_code, \u001b[38;5;28mself\u001b[39m\u001b[38;5;241m.\u001b[39m_retry_strategy\n\u001b[0;32m    155\u001b[0m )\n",
      "File \u001b[1;32mc:\\Users\\gteja\\anaconda3\\Lib\\site-packages\\google\\resumable_media\\requests\\_request_helpers.py:155\u001b[0m, in \u001b[0;36mwait_and_retry\u001b[1;34m(func, get_status_code, retry_strategy)\u001b[0m\n\u001b[0;32m    154\u001b[0m \u001b[38;5;28;01mtry\u001b[39;00m:\n\u001b[1;32m--> 155\u001b[0m     response \u001b[38;5;241m=\u001b[39m func()\n\u001b[0;32m    156\u001b[0m \u001b[38;5;28;01mexcept\u001b[39;00m _CONNECTION_ERROR_CLASSES \u001b[38;5;28;01mas\u001b[39;00m e:\n",
      "File \u001b[1;32mc:\\Users\\gteja\\anaconda3\\Lib\\site-packages\\google\\resumable_media\\requests\\upload.py:149\u001b[0m, in \u001b[0;36mMultipartUpload.transmit.<locals>.retriable_request\u001b[1;34m()\u001b[0m\n\u001b[0;32m    145\u001b[0m result \u001b[38;5;241m=\u001b[39m transport\u001b[38;5;241m.\u001b[39mrequest(\n\u001b[0;32m    146\u001b[0m     method, url, data\u001b[38;5;241m=\u001b[39mpayload, headers\u001b[38;5;241m=\u001b[39mheaders, timeout\u001b[38;5;241m=\u001b[39mtimeout\n\u001b[0;32m    147\u001b[0m )\n\u001b[1;32m--> 149\u001b[0m \u001b[38;5;28mself\u001b[39m\u001b[38;5;241m.\u001b[39m_process_response(result)\n\u001b[0;32m    151\u001b[0m \u001b[38;5;28;01mreturn\u001b[39;00m result\n",
      "File \u001b[1;32mc:\\Users\\gteja\\anaconda3\\Lib\\site-packages\\google\\resumable_media\\_upload.py:125\u001b[0m, in \u001b[0;36mUploadBase._process_response\u001b[1;34m(self, response)\u001b[0m\n\u001b[0;32m    124\u001b[0m \u001b[38;5;28mself\u001b[39m\u001b[38;5;241m.\u001b[39m_finished \u001b[38;5;241m=\u001b[39m \u001b[38;5;28;01mTrue\u001b[39;00m\n\u001b[1;32m--> 125\u001b[0m _helpers\u001b[38;5;241m.\u001b[39mrequire_status_code(response, (http\u001b[38;5;241m.\u001b[39mclient\u001b[38;5;241m.\u001b[39mOK,), \u001b[38;5;28mself\u001b[39m\u001b[38;5;241m.\u001b[39m_get_status_code)\n",
      "File \u001b[1;32mc:\\Users\\gteja\\anaconda3\\Lib\\site-packages\\google\\resumable_media\\_helpers.py:108\u001b[0m, in \u001b[0;36mrequire_status_code\u001b[1;34m(response, status_codes, get_status_code, callback)\u001b[0m\n\u001b[0;32m    107\u001b[0m         callback()\n\u001b[1;32m--> 108\u001b[0m     \u001b[38;5;28;01mraise\u001b[39;00m common\u001b[38;5;241m.\u001b[39mInvalidResponse(\n\u001b[0;32m    109\u001b[0m         response,\n\u001b[0;32m    110\u001b[0m         \u001b[38;5;124m\"\u001b[39m\u001b[38;5;124mRequest failed with status code\u001b[39m\u001b[38;5;124m\"\u001b[39m,\n\u001b[0;32m    111\u001b[0m         status_code,\n\u001b[0;32m    112\u001b[0m         \u001b[38;5;124m\"\u001b[39m\u001b[38;5;124mExpected one of\u001b[39m\u001b[38;5;124m\"\u001b[39m,\n\u001b[0;32m    113\u001b[0m         \u001b[38;5;241m*\u001b[39mstatus_codes\n\u001b[0;32m    114\u001b[0m     )\n\u001b[0;32m    115\u001b[0m \u001b[38;5;28;01mreturn\u001b[39;00m status_code\n",
      "\u001b[1;31mInvalidResponse\u001b[0m: ('Request failed with status code', 404, 'Expected one of', <HTTPStatus.OK: 200>)",
      "\nDuring handling of the above exception, another exception occurred:\n",
      "\u001b[1;31mNotFound\u001b[0m                                  Traceback (most recent call last)",
      "Cell \u001b[1;32mIn[3], line 6\u001b[0m\n\u001b[0;32m      4\u001b[0m \u001b[38;5;66;03m# Upload the file to Firebase Storage\u001b[39;00m\n\u001b[0;32m      5\u001b[0m blob \u001b[38;5;241m=\u001b[39m bucket\u001b[38;5;241m.\u001b[39mblob(destination_folder \u001b[38;5;241m+\u001b[39m destination_filename)\n\u001b[1;32m----> 6\u001b[0m blob\u001b[38;5;241m.\u001b[39mupload_from_filename(file_path)\n\u001b[0;32m      8\u001b[0m \u001b[38;5;66;03m# Make the uploaded file publicly accessible (optional)\u001b[39;00m\n\u001b[0;32m      9\u001b[0m blob\u001b[38;5;241m.\u001b[39mmake_public()\n",
      "File \u001b[1;32mc:\\Users\\gteja\\anaconda3\\Lib\\contextlib.py:81\u001b[0m, in \u001b[0;36mContextDecorator.__call__.<locals>.inner\u001b[1;34m(*args, **kwds)\u001b[0m\n\u001b[0;32m     78\u001b[0m \u001b[38;5;129m@wraps\u001b[39m(func)\n\u001b[0;32m     79\u001b[0m \u001b[38;5;28;01mdef\u001b[39;00m \u001b[38;5;21minner\u001b[39m(\u001b[38;5;241m*\u001b[39margs, \u001b[38;5;241m*\u001b[39m\u001b[38;5;241m*\u001b[39mkwds):\n\u001b[0;32m     80\u001b[0m     \u001b[38;5;28;01mwith\u001b[39;00m \u001b[38;5;28mself\u001b[39m\u001b[38;5;241m.\u001b[39m_recreate_cm():\n\u001b[1;32m---> 81\u001b[0m         \u001b[38;5;28;01mreturn\u001b[39;00m func(\u001b[38;5;241m*\u001b[39margs, \u001b[38;5;241m*\u001b[39m\u001b[38;5;241m*\u001b[39mkwds)\n",
      "File \u001b[1;32mc:\\Users\\gteja\\anaconda3\\Lib\\site-packages\\google\\cloud\\storage\\blob.py:3003\u001b[0m, in \u001b[0;36mBlob.upload_from_filename\u001b[1;34m(self, filename, content_type, num_retries, client, predefined_acl, if_generation_match, if_generation_not_match, if_metageneration_match, if_metageneration_not_match, timeout, checksum, retry)\u001b[0m\n\u001b[0;32m   2889\u001b[0m \u001b[38;5;129m@create_trace_span\u001b[39m(name\u001b[38;5;241m=\u001b[39m\u001b[38;5;124m\"\u001b[39m\u001b[38;5;124mStorage.Blob.uploadFromFilename\u001b[39m\u001b[38;5;124m\"\u001b[39m)\n\u001b[0;32m   2890\u001b[0m \u001b[38;5;28;01mdef\u001b[39;00m \u001b[38;5;21mupload_from_filename\u001b[39m(\n\u001b[0;32m   2891\u001b[0m     \u001b[38;5;28mself\u001b[39m,\n\u001b[1;32m   (...)\u001b[0m\n\u001b[0;32m   2903\u001b[0m     retry\u001b[38;5;241m=\u001b[39mDEFAULT_RETRY_IF_GENERATION_SPECIFIED,\n\u001b[0;32m   2904\u001b[0m ):\n\u001b[0;32m   2905\u001b[0m \u001b[38;5;250m    \u001b[39m\u001b[38;5;124;03m\"\"\"Upload this blob's contents from the content of a named file.\u001b[39;00m\n\u001b[0;32m   2906\u001b[0m \n\u001b[0;32m   2907\u001b[0m \u001b[38;5;124;03m    The content type of the upload will be determined in order\u001b[39;00m\n\u001b[1;32m   (...)\u001b[0m\n\u001b[0;32m   3000\u001b[0m \u001b[38;5;124;03m        such as delays and deadlines are respected.\u001b[39;00m\n\u001b[0;32m   3001\u001b[0m \u001b[38;5;124;03m    \"\"\"\u001b[39;00m\n\u001b[1;32m-> 3003\u001b[0m     \u001b[38;5;28mself\u001b[39m\u001b[38;5;241m.\u001b[39m_handle_filename_and_upload(\n\u001b[0;32m   3004\u001b[0m         filename,\n\u001b[0;32m   3005\u001b[0m         content_type\u001b[38;5;241m=\u001b[39mcontent_type,\n\u001b[0;32m   3006\u001b[0m         num_retries\u001b[38;5;241m=\u001b[39mnum_retries,\n\u001b[0;32m   3007\u001b[0m         client\u001b[38;5;241m=\u001b[39mclient,\n\u001b[0;32m   3008\u001b[0m         predefined_acl\u001b[38;5;241m=\u001b[39mpredefined_acl,\n\u001b[0;32m   3009\u001b[0m         if_generation_match\u001b[38;5;241m=\u001b[39mif_generation_match,\n\u001b[0;32m   3010\u001b[0m         if_generation_not_match\u001b[38;5;241m=\u001b[39mif_generation_not_match,\n\u001b[0;32m   3011\u001b[0m         if_metageneration_match\u001b[38;5;241m=\u001b[39mif_metageneration_match,\n\u001b[0;32m   3012\u001b[0m         if_metageneration_not_match\u001b[38;5;241m=\u001b[39mif_metageneration_not_match,\n\u001b[0;32m   3013\u001b[0m         timeout\u001b[38;5;241m=\u001b[39mtimeout,\n\u001b[0;32m   3014\u001b[0m         checksum\u001b[38;5;241m=\u001b[39mchecksum,\n\u001b[0;32m   3015\u001b[0m         retry\u001b[38;5;241m=\u001b[39mretry,\n\u001b[0;32m   3016\u001b[0m     )\n",
      "File \u001b[1;32mc:\\Users\\gteja\\anaconda3\\Lib\\site-packages\\google\\cloud\\storage\\blob.py:2881\u001b[0m, in \u001b[0;36mBlob._handle_filename_and_upload\u001b[1;34m(self, filename, content_type, *args, **kwargs)\u001b[0m\n\u001b[0;32m   2879\u001b[0m \u001b[38;5;28;01mwith\u001b[39;00m \u001b[38;5;28mopen\u001b[39m(filename, \u001b[38;5;124m\"\u001b[39m\u001b[38;5;124mrb\u001b[39m\u001b[38;5;124m\"\u001b[39m) \u001b[38;5;28;01mas\u001b[39;00m file_obj:\n\u001b[0;32m   2880\u001b[0m     total_bytes \u001b[38;5;241m=\u001b[39m os\u001b[38;5;241m.\u001b[39mfstat(file_obj\u001b[38;5;241m.\u001b[39mfileno())\u001b[38;5;241m.\u001b[39mst_size\n\u001b[1;32m-> 2881\u001b[0m     \u001b[38;5;28mself\u001b[39m\u001b[38;5;241m.\u001b[39m_prep_and_do_upload(\n\u001b[0;32m   2882\u001b[0m         file_obj,\n\u001b[0;32m   2883\u001b[0m         content_type\u001b[38;5;241m=\u001b[39mcontent_type,\n\u001b[0;32m   2884\u001b[0m         size\u001b[38;5;241m=\u001b[39mtotal_bytes,\n\u001b[0;32m   2885\u001b[0m         \u001b[38;5;241m*\u001b[39margs,\n\u001b[0;32m   2886\u001b[0m         \u001b[38;5;241m*\u001b[39m\u001b[38;5;241m*\u001b[39mkwargs,\n\u001b[0;32m   2887\u001b[0m     )\n",
      "File \u001b[1;32mc:\\Users\\gteja\\anaconda3\\Lib\\site-packages\\google\\cloud\\storage\\blob.py:2715\u001b[0m, in \u001b[0;36mBlob._prep_and_do_upload\u001b[1;34m(self, file_obj, rewind, size, content_type, num_retries, client, predefined_acl, if_generation_match, if_generation_not_match, if_metageneration_match, if_metageneration_not_match, timeout, checksum, retry, command)\u001b[0m\n\u001b[0;32m   2713\u001b[0m     \u001b[38;5;28mself\u001b[39m\u001b[38;5;241m.\u001b[39m_set_properties(created_json)\n\u001b[0;32m   2714\u001b[0m \u001b[38;5;28;01mexcept\u001b[39;00m resumable_media\u001b[38;5;241m.\u001b[39mInvalidResponse \u001b[38;5;28;01mas\u001b[39;00m exc:\n\u001b[1;32m-> 2715\u001b[0m     _raise_from_invalid_response(exc)\n",
      "File \u001b[1;32mc:\\Users\\gteja\\anaconda3\\Lib\\site-packages\\google\\cloud\\storage\\blob.py:4905\u001b[0m, in \u001b[0;36m_raise_from_invalid_response\u001b[1;34m(error)\u001b[0m\n\u001b[0;32m   4901\u001b[0m     error_message \u001b[38;5;241m=\u001b[39m \u001b[38;5;28mstr\u001b[39m(error)\n\u001b[0;32m   4903\u001b[0m message \u001b[38;5;241m=\u001b[39m \u001b[38;5;124mf\u001b[39m\u001b[38;5;124m\"\u001b[39m\u001b[38;5;132;01m{\u001b[39;00mresponse\u001b[38;5;241m.\u001b[39mrequest\u001b[38;5;241m.\u001b[39mmethod\u001b[38;5;132;01m}\u001b[39;00m\u001b[38;5;124m \u001b[39m\u001b[38;5;132;01m{\u001b[39;00mresponse\u001b[38;5;241m.\u001b[39mrequest\u001b[38;5;241m.\u001b[39murl\u001b[38;5;132;01m}\u001b[39;00m\u001b[38;5;124m: \u001b[39m\u001b[38;5;132;01m{\u001b[39;00merror_message\u001b[38;5;132;01m}\u001b[39;00m\u001b[38;5;124m\"\u001b[39m\n\u001b[1;32m-> 4905\u001b[0m \u001b[38;5;28;01mraise\u001b[39;00m exceptions\u001b[38;5;241m.\u001b[39mfrom_http_status(response\u001b[38;5;241m.\u001b[39mstatus_code, message, response\u001b[38;5;241m=\u001b[39mresponse)\n",
      "\u001b[1;31mNotFound\u001b[0m: 404 POST https://storage.googleapis.com/upload/storage/v1/b/dr-writely/o?uploadType=multipart: {\n  \"error\": {\n    \"code\": 404,\n    \"message\": \"The specified bucket does not exist.\",\n    \"errors\": [\n      {\n        \"message\": \"The specified bucket does not exist.\",\n        \"domain\": \"global\",\n        \"reason\": \"notFound\"\n      }\n    ]\n  }\n}\n: ('Request failed with status code', 404, 'Expected one of', <HTTPStatus.OK: 200>)"
     ]
    }
   ],
   "source": [
    "# Get a reference to the storage bucket\n",
    "bucket = storage.bucket()\n",
    "\n",
    "# Upload the file to Firebase Storage\n",
    "blob = bucket.blob(destination_folder + destination_filename)\n",
    "blob.upload_from_filename(file_path)\n",
    "\n",
    "# Make the uploaded file publicly accessible (optional)\n",
    "blob.make_public()\n",
    "\n",
    "print(f'PDF file uploaded to: gs://{bucket.name}/{blob.name}')"
   ]
  },
  {
   "cell_type": "code",
   "execution_count": null,
   "metadata": {},
   "outputs": [],
   "source": []
  }
 ],
 "metadata": {
  "kernelspec": {
   "display_name": "base",
   "language": "python",
   "name": "python3"
  },
  "language_info": {
   "codemirror_mode": {
    "name": "ipython",
    "version": 3
   },
   "file_extension": ".py",
   "mimetype": "text/x-python",
   "name": "python",
   "nbconvert_exporter": "python",
   "pygments_lexer": "ipython3",
   "version": "3.12.4"
  }
 },
 "nbformat": 4,
 "nbformat_minor": 2
}
