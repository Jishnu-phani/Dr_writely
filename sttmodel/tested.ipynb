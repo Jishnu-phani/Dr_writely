{
 "cells": [
  {
   "cell_type": "code",
   "execution_count": 3,
   "metadata": {},
   "outputs": [
    {
     "name": "stdout",
     "output_type": "stream",
     "text": [
      "['amoxilin', 'tazorac cream', 'medication']\n"
     ]
    }
   ],
   "source": [
    "from transformers import AutoTokenizer, AutoModelForTokenClassification, pipeline\n",
    "\n",
    "model_path = \"/Users/Jay/Documents/Hackathons/Inferentia/model\"\n",
    "tokenizer = AutoTokenizer.from_pretrained(model_path)\n",
    "model = AutoModelForTokenClassification.from_pretrained(model_path)\n",
    "pipe = pipeline(\"ner\", model=model, tokenizer=tokenizer, aggregation_strategy=\"simple\")\n",
    "out_ = pipe(\"\"\"past two months now on her chest, stomach, neck and back. On examination, this is a flaring of her acne with two small folliculitis lesions. The patient has been taking Amoxilin 500-MGBID and using Tazorac Cream 0.1 and her face is doing well, but she has been out of her medication now for three days also. She has been getting photo facials at healing waters and was wondering about what we could offer as far as cosmetic procedures and skin care products, etc. The patient is married, she has a secretary. Family, social and allergy history. She has hay fever, eczema, sinus\"\"\")\n",
    "temp = ''\n",
    "meds_arr = []\n",
    "for i in out_:\n",
    "    if i['entity_group'] == 'Medication' and i['word'][0] == '#':\n",
    "        if len(meds_arr) == 0:\n",
    "            continue\n",
    "        meds_arr.pop(-1)\n",
    "        num = len(temp)\n",
    "        fin = temp + i['word'][num:]\n",
    "        meds_arr.append(fin)\n",
    "        \n",
    "    elif i['entity_group'] == 'Medication':\n",
    "        if i['score'] > 0.8:\n",
    "            meds_arr.append(i['word'])\n",
    "    temp = i['word']\n",
    "    \n",
    "print(meds_arr)"
   ]
  }
 ],
 "metadata": {
  "kernelspec": {
   "display_name": "tf_env",
   "language": "python",
   "name": "python3"
  },
  "language_info": {
   "codemirror_mode": {
    "name": "ipython",
    "version": 3
   },
   "file_extension": ".py",
   "mimetype": "text/x-python",
   "name": "python",
   "nbconvert_exporter": "python",
   "pygments_lexer": "ipython3",
   "version": "3.9.18"
  }
 },
 "nbformat": 4,
 "nbformat_minor": 2
}
